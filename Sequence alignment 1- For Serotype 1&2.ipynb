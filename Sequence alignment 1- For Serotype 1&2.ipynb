{
 "cells": [
  {
   "cell_type": "markdown",
   "id": "b05485f5",
   "metadata": {},
   "source": [
    "# Pairwise Sequence Alignment For Dengue Serotype 1 & 2"
   ]
  },
  {
   "cell_type": "code",
   "execution_count": 1,
   "id": "6df3351c",
   "metadata": {},
   "outputs": [],
   "source": [
    "from Bio import pairwise2\n",
    "from Bio import SeqIO\n",
    "from Bio.pairwise2 import format_alignment"
   ]
  },
  {
   "cell_type": "markdown",
   "id": "f7f5c06a",
   "metadata": {},
   "source": [
    "###### Input serotype 1  fasta file and read "
   ]
  },
  {
   "cell_type": "code",
   "execution_count": 2,
   "id": "afabddb8",
   "metadata": {},
   "outputs": [
    {
     "name": "stdout",
     "output_type": "stream",
     "text": [
      "MRCVGIGNRDFVEGLSGATWVDVVLEHGSCVTTMAKNKPTLDIELLKTEVTNPAVLRKLCIEAKISNTTTDSRCPTQGEATLVEEQDANFVCRRTVVDRGWGNGCGLFGKGSLLTCAKFKCVTKLEGKIVQYENLKYSVIVTVHTGDQHQVGNETTEHGTIATITPQAPTSEIQLTDYGTLTLDCSPRTGLDFNEMVLLTMKEKSWLVHKQWFLDLPLPWTSGASTSQETWNRQDLLVTFKTAHAKKQEVVVLGSQEGAMHTALTGATEIQTSGTTTIFAGHLKCRLKMDKLTLKGMSYVMCTGSFKLEKEVAETQHGTVLVQVKYEGTDAPCKIPFSTQDEKGVTQNGRLITANPIVTDKEKPVNIETEPPFGESYIIVGAGEKALKLSWFKKGGAADDDDKAGWSHPQFEKGGGSGGGSGGGSWSHPQFEK\n",
      "433\n"
     ]
    }
   ],
   "source": [
    "records1=list(SeqIO.parse(\"D:/Research/Git hub/Main/Fasta/rcsb_pdb_7A3R.fasta\", \"fasta\"))\n",
    "seq1=records1[0].seq\n",
    "print(seq1)\n",
    "print(len(seq1))"
   ]
  },
  {
   "cell_type": "markdown",
   "id": "98b545f1",
   "metadata": {},
   "source": [
    "##### Input serotype 2 fasta file and read"
   ]
  },
  {
   "cell_type": "code",
   "execution_count": 3,
   "id": "a69f29a8",
   "metadata": {},
   "outputs": [
    {
     "ename": "FileNotFoundError",
     "evalue": "[Errno 2] No such file or directory: 'D:/UOC/4th year/Research/Git hub/Main/Fasta/rcsb_pdb_1OKE.fasta'",
     "output_type": "error",
     "traceback": [
      "\u001b[1;31m---------------------------------------------------------------------------\u001b[0m",
      "\u001b[1;31mFileNotFoundError\u001b[0m                         Traceback (most recent call last)",
      "Input \u001b[1;32mIn [3]\u001b[0m, in \u001b[0;36m<cell line: 1>\u001b[1;34m()\u001b[0m\n\u001b[1;32m----> 1\u001b[0m records2\u001b[38;5;241m=\u001b[39m\u001b[38;5;28mlist\u001b[39m(\u001b[43mSeqIO\u001b[49m\u001b[38;5;241;43m.\u001b[39;49m\u001b[43mparse\u001b[49m\u001b[43m(\u001b[49m\u001b[38;5;124;43m\"\u001b[39;49m\u001b[38;5;124;43mD:/UOC/4th year/Research/Git hub/Main/Fasta/rcsb_pdb_1OKE.fasta\u001b[39;49m\u001b[38;5;124;43m\"\u001b[39;49m\u001b[43m,\u001b[49m\u001b[38;5;124;43m\"\u001b[39;49m\u001b[38;5;124;43mfasta\u001b[39;49m\u001b[38;5;124;43m\"\u001b[39;49m\u001b[43m)\u001b[49m)\n\u001b[0;32m      2\u001b[0m seq2\u001b[38;5;241m=\u001b[39mrecords2[\u001b[38;5;241m0\u001b[39m]\u001b[38;5;241m.\u001b[39mseq\n\u001b[0;32m      3\u001b[0m \u001b[38;5;28mprint\u001b[39m(seq2)\n",
      "File \u001b[1;32m~\\anaconda3\\lib\\site-packages\\Bio\\SeqIO\\__init__.py:607\u001b[0m, in \u001b[0;36mparse\u001b[1;34m(handle, format, alphabet)\u001b[0m\n\u001b[0;32m    605\u001b[0m iterator_generator \u001b[38;5;241m=\u001b[39m _FormatToIterator\u001b[38;5;241m.\u001b[39mget(\u001b[38;5;28mformat\u001b[39m)\n\u001b[0;32m    606\u001b[0m \u001b[38;5;28;01mif\u001b[39;00m iterator_generator:\n\u001b[1;32m--> 607\u001b[0m     \u001b[38;5;28;01mreturn\u001b[39;00m \u001b[43miterator_generator\u001b[49m\u001b[43m(\u001b[49m\u001b[43mhandle\u001b[49m\u001b[43m)\u001b[49m\n\u001b[0;32m    608\u001b[0m \u001b[38;5;28;01mif\u001b[39;00m \u001b[38;5;28mformat\u001b[39m \u001b[38;5;129;01min\u001b[39;00m AlignIO\u001b[38;5;241m.\u001b[39m_FormatToIterator:\n\u001b[0;32m    609\u001b[0m     \u001b[38;5;66;03m# Use Bio.AlignIO to read in the alignments\u001b[39;00m\n\u001b[0;32m    610\u001b[0m     \u001b[38;5;28;01mreturn\u001b[39;00m (r \u001b[38;5;28;01mfor\u001b[39;00m alignment \u001b[38;5;129;01min\u001b[39;00m AlignIO\u001b[38;5;241m.\u001b[39mparse(handle, \u001b[38;5;28mformat\u001b[39m) \u001b[38;5;28;01mfor\u001b[39;00m r \u001b[38;5;129;01min\u001b[39;00m alignment)\n",
      "File \u001b[1;32m~\\anaconda3\\lib\\site-packages\\Bio\\SeqIO\\FastaIO.py:183\u001b[0m, in \u001b[0;36mFastaIterator.__init__\u001b[1;34m(self, source, alphabet, title2ids)\u001b[0m\n\u001b[0;32m    181\u001b[0m     \u001b[38;5;28;01mraise\u001b[39;00m \u001b[38;5;167;01mValueError\u001b[39;00m(\u001b[38;5;124m\"\u001b[39m\u001b[38;5;124mThe alphabet argument is no longer supported\u001b[39m\u001b[38;5;124m\"\u001b[39m)\n\u001b[0;32m    182\u001b[0m \u001b[38;5;28mself\u001b[39m\u001b[38;5;241m.\u001b[39mtitle2ids \u001b[38;5;241m=\u001b[39m title2ids\n\u001b[1;32m--> 183\u001b[0m \u001b[38;5;28;43msuper\u001b[39;49m\u001b[43m(\u001b[49m\u001b[43m)\u001b[49m\u001b[38;5;241;43m.\u001b[39;49m\u001b[38;5;21;43m__init__\u001b[39;49m\u001b[43m(\u001b[49m\u001b[43msource\u001b[49m\u001b[43m,\u001b[49m\u001b[43m \u001b[49m\u001b[43mmode\u001b[49m\u001b[38;5;241;43m=\u001b[39;49m\u001b[38;5;124;43m\"\u001b[39;49m\u001b[38;5;124;43mt\u001b[39;49m\u001b[38;5;124;43m\"\u001b[39;49m\u001b[43m,\u001b[49m\u001b[43m \u001b[49m\u001b[43mfmt\u001b[49m\u001b[38;5;241;43m=\u001b[39;49m\u001b[38;5;124;43m\"\u001b[39;49m\u001b[38;5;124;43mFasta\u001b[39;49m\u001b[38;5;124;43m\"\u001b[39;49m\u001b[43m)\u001b[49m\n",
      "File \u001b[1;32m~\\anaconda3\\lib\\site-packages\\Bio\\SeqIO\\Interfaces.py:47\u001b[0m, in \u001b[0;36mSequenceIterator.__init__\u001b[1;34m(self, source, alphabet, mode, fmt)\u001b[0m\n\u001b[0;32m     45\u001b[0m     \u001b[38;5;28;01mraise\u001b[39;00m \u001b[38;5;167;01mValueError\u001b[39;00m(\u001b[38;5;124m\"\u001b[39m\u001b[38;5;124mThe alphabet argument is no longer supported\u001b[39m\u001b[38;5;124m\"\u001b[39m)\n\u001b[0;32m     46\u001b[0m \u001b[38;5;28;01mtry\u001b[39;00m:\n\u001b[1;32m---> 47\u001b[0m     \u001b[38;5;28mself\u001b[39m\u001b[38;5;241m.\u001b[39mstream \u001b[38;5;241m=\u001b[39m \u001b[38;5;28;43mopen\u001b[39;49m\u001b[43m(\u001b[49m\u001b[43msource\u001b[49m\u001b[43m,\u001b[49m\u001b[43m \u001b[49m\u001b[38;5;124;43m\"\u001b[39;49m\u001b[38;5;124;43mr\u001b[39;49m\u001b[38;5;124;43m\"\u001b[39;49m\u001b[43m \u001b[49m\u001b[38;5;241;43m+\u001b[39;49m\u001b[43m \u001b[49m\u001b[43mmode\u001b[49m\u001b[43m)\u001b[49m\n\u001b[0;32m     48\u001b[0m     \u001b[38;5;28mself\u001b[39m\u001b[38;5;241m.\u001b[39mshould_close_stream \u001b[38;5;241m=\u001b[39m \u001b[38;5;28;01mTrue\u001b[39;00m\n\u001b[0;32m     49\u001b[0m \u001b[38;5;28;01mexcept\u001b[39;00m \u001b[38;5;167;01mTypeError\u001b[39;00m:  \u001b[38;5;66;03m# not a path, assume we received a stream\u001b[39;00m\n",
      "\u001b[1;31mFileNotFoundError\u001b[0m: [Errno 2] No such file or directory: 'D:/UOC/4th year/Research/Git hub/Main/Fasta/rcsb_pdb_1OKE.fasta'"
     ]
    }
   ],
   "source": [
    "records2=list(SeqIO.parse(\"D:/Research/Git hub/Main/Fasta//rcsb_pdb_1OKE.fasta\",\"fasta\"))\n",
    "seq2=records2[0].seq\n",
    "print(seq2)\n",
    "print(len(seq2))"
   ]
  },
  {
   "cell_type": "markdown",
   "id": "ea5dd000",
   "metadata": {},
   "source": [
    "##### Pairwise Sequence Alignment"
   ]
  },
  {
   "cell_type": "code",
   "execution_count": 5,
   "id": "6cf68087",
   "metadata": {},
   "outputs": [],
   "source": [
    "alignments = pairwise2.align.localxx(seq1,seq2)"
   ]
  },
  {
   "cell_type": "code",
   "execution_count": 6,
   "id": "192ac488",
   "metadata": {},
   "outputs": [
    {
     "name": "stdout",
     "output_type": "stream",
     "text": [
      "9 MRC--IGMSNRDFVEGV-SGGS--WVDIV-LEHGSCVTTMAKN-KPTLDF-ELI-KTEAKQ---PAT-LRKY-CIEAKLT--NTTTE-SRCPTQGEPS--LN-EEQDKR--FVCKHSM----VDRGWGNGCGLFGKGGIV---TCAM-FRCK---KNM-EGKV-VQP-ENLE-YTI-VI-TP-HS-GEE--HA-VGND-TGK--HGKE-IK--ITPQSSITEA---E--LTG-YGTV--TME--CSPRTGLDFNEMVLLQ-M-ENKA-WLVHR-QWFLDLPLPWLP--GAD-TQGSNWIQKET-----L-VTFKNP--HAKKQDV--VVLGSQEGAMHTALTGATEIQMS-SGNLLFT-----GHLKCRLR-MDKLQ-LKGM-SYS-MCTGK-FKVV--KEI-AETQHGTIVIR-VQ--YEG-DGS-PCKIPFEIM---DLEKRH-VL---GRLITV--NPIVT--EKDSPVNIEAEPPFGD-SYIIIGVEP-GQ-----LKLN-WFK------K\n",
      "  |||  ||  |||||||  | |   ||| | ||||||||||||  |||||  ||  |||      ||  |||  |||||    ||||  ||||||||    |  ||||    |||        |||||||||||||| |     |||  |  |   |   |||  ||  |||  |   || |  |  |    |  |||  |    ||   |   ||||     |   |  ||  ||    |    |||||||||||||||  | | |  ||||  ||||||||||    ||  |  |   | ||     | ||||    |||||    |||||||||||||||||||||   ||    |     |||||||  ||||  |||  ||  ||||  ||    ||  ||||||| |   ||  ||| |   ||||||      | ||   |    |||  |  |||||  ||  |||||||||||  ||  | |   |      |||  |||      |\n",
      "1 MRCVGIG--NRDFVEG-LS-G-ATWVD-VVLEHGSCVTTMAK-DKPTLD-IEL-LKTE---VTNPA-VLRK-LCIEAK--ISNTTT-DSRCPTQGE--ATL-VEEQD--ANFVC----RRTFVDRGWGNGCGLFGK-G--SLLTCA-KF--KCVTK--LEGK-IVQ-YENL-KY--SVIVT-VH-TG--DQH-QVGN-ET--TEHG--TI-ATITPQ-----APTSEIQLT-DYG--ALT--LDCSPRTGLDFNEMVLL-TMKE-K-SWLVH-KQWFLDLPLPW--TSGA-ST--S---Q-ETWNRQDLLVTFK--TAHAKKQ--EAVVLGSQEGAMHTALTGATEIQ--TSG----TTTIFAGHLKCRL-KMDKL-TLKG-ISY-VMCTG-SFK--LEKE-VAETQHGT-V--LVQVKYEGTD--APCKIPF---SSQD-EK--GV-TQNGRL--VTANPIVTDKEK--PVNIEAEPPFG-ESY--I-V--VG-AGEKALKL-SWFKKGSSIGK\n",
      "  Score=279\n",
      "\n",
      "5\n"
     ]
    }
   ],
   "source": [
    "print(format_alignment(*alignments[0]))\n",
    "print(len(alignments[0]))\n"
   ]
  },
  {
   "cell_type": "code",
   "execution_count": 11,
   "id": "01422cd1",
   "metadata": {},
   "outputs": [
    {
     "name": "stdout",
     "output_type": "stream",
     "text": [
      "Alignment(seqA='GENLYFQGMRC--IGMSNRDFVEGV-SGGS--WVDIV-LEHGSCVTTMAKN-KPTLDF-ELI-KTEAKQ---PAT-LRKY-CIEAKLT--NTTTE-SRCPTQGEPS--LN-EEQDKR--FVCKHSM----VDRGWGNGCGLFGKGGIV---TCAM-FRCK---KNM-EGKV-VQP-ENLE-YTI-VI-TP-HS-GEE--HA-VGND-TGK--HGKE-IK--ITPQSSITEA---E--LTG-YGTV--TME--CSPRTGLDFNEMVLLQ-M-ENKA-WLVHR-QWFLDLPLPWLP--GAD-TQGSNWIQKET-----L-VTFKNP--HAKKQDV--VVLGSQEGAMHTALTGATEIQMS-SGNLLFT-----GHLKCRLR-MDKLQ-LKGM-SYS-MCTGK-FKVV--KEI-AETQHGTIVIR-VQ--YEG-DGS-PCKIPFEIM---DLEKRH-VL---GRLITV--NPIVT--EKDSPVNIEAEPPFGD-SYIIIGVEP-GQ-----LKLN-WFK------K', seqB='--------MRCVGIG--NRDFVEG-LS-G-ATWVD-VVLEHGSCVTTMAK-DKPTLD-IEL-LKTE---VTNPA-VLRK-LCIEAK--ISNTTT-DSRCPTQGE--ATL-VEEQD--ANFVC----RRTFVDRGWGNGCGLFGK-G--SLLTCA-KF--KCVTK--LEGK-IVQ-YENL-KY--SVIVT-VH-TG--DQH-QVGN-ET--TEHG--TI-ATITPQ-----APTSEIQLT-DYG--ALT--LDCSPRTGLDFNEMVLL-TMKE-K-SWLVH-KQWFLDLPLPW--TSGA-ST--S---Q-ETWNRQDLLVTFK--TAHAKKQ--EAVVLGSQEGAMHTALTGATEIQ--TSG----TTTIFAGHLKCRL-KMDKL-TLKG-ISY-VMCTG-SFK--LEKE-VAETQHGT-V--LVQVKYEGTD--APCKIPF---SSQD-EK--GV-TQNGRL--VTANPIVTDKEK--PVNIEAEPPFG-ESY--I-V--VG-AGEKALKL-SWFKKGSSIGK', score=279.0, start=8, end=523)\n"
     ]
    }
   ],
   "source": [
    "print(alignments[0])"
   ]
  },
  {
   "cell_type": "code",
   "execution_count": null,
   "id": "5e9d35df",
   "metadata": {},
   "outputs": [],
   "source": []
  },
  {
   "cell_type": "code",
   "execution_count": null,
   "id": "7a8d7592",
   "metadata": {},
   "outputs": [],
   "source": []
  }
 ],
 "metadata": {
  "kernelspec": {
   "display_name": "Python 3 (ipykernel)",
   "language": "python",
   "name": "python3"
  },
  "language_info": {
   "codemirror_mode": {
    "name": "ipython",
    "version": 3
   },
   "file_extension": ".py",
   "mimetype": "text/x-python",
   "name": "python",
   "nbconvert_exporter": "python",
   "pygments_lexer": "ipython3",
   "version": "3.9.12"
  }
 },
 "nbformat": 4,
 "nbformat_minor": 5
}
