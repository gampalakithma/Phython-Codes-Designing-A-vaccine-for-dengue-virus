{
 "cells": [
  {
   "cell_type": "markdown",
   "id": "cae5c39a",
   "metadata": {},
   "source": [
    "# Pairwise Sequence Alignment For Dengue Serotype 1 & 2 -Using BLOSUM62"
   ]
  },
  {
   "cell_type": "code",
   "execution_count": 1,
   "id": "9716900d",
   "metadata": {},
   "outputs": [],
   "source": [
    "from Bio import pairwise2\n",
    "from Bio import SeqIO\n",
    "from Bio.Align import substitution_matrices\n",
    "from Bio.pairwise2 import format_alignment\n",
    "blosum62 = substitution_matrices.load(\"BLOSUM62\")\n"
   ]
  },
  {
   "cell_type": "markdown",
   "id": "bf861937",
   "metadata": {},
   "source": [
    "##### Input serotype 1  fasta file and read ##### "
   ]
  },
  {
   "cell_type": "code",
   "execution_count": 2,
   "id": "d7bdfd82",
   "metadata": {},
   "outputs": [
    {
     "name": "stdout",
     "output_type": "stream",
     "text": [
      "MRCVGIGNRDFVEGLSGATWVDVVLEHGSCVTTMAKNKPTLDIELLKTEVTNPAVLRKLCIEAKISNTTTDSRCPTQGEATLVEEQDANFVCRRTVVDRGWGNGCGLFGKGSLLTCAKFKCVTKLEGKIVQYENLKYSVIVTVHTGDQHQVGNETTEHGTIATITPQAPTSEIQLTDYGTLTLDCSPRTGLDFNEMVLLTMKEKSWLVHKQWFLDLPLPWTSGASTSQETWNRQDLLVTFKTAHAKKQEVVVLGSQEGAMHTALTGATEIQTSGTTTIFAGHLKCRLKMDKLTLKGMSYVMCTGSFKLEKEVAETQHGTVLVQVKYEGTDAPCKIPFSTQDEKGVTQNGRLITANPIVTDKEKPVNIETEPPFGESYIIVGAGEKALKLSWFKKGGAADDDDKAGWSHPQFEKGGGSGGGSGGGSWSHPQFEK\n",
      "433\n"
     ]
    }
   ],
   "source": [
    "records1=list(SeqIO.parse(\"D:/Research/Git hub/Main/Fasta/rcsb_pdb_7A3R.fasta\", \"fasta\"))\n",
    "seq1=records1[0].seq\n",
    "print(seq1)\n",
    "print(len(seq1))"
   ]
  },
  {
   "cell_type": "markdown",
   "id": "d573925c",
   "metadata": {},
   "source": [
    "##### Input serotype 3 fasta file and read"
   ]
  },
  {
   "cell_type": "code",
   "execution_count": 3,
   "id": "df6915f3",
   "metadata": {},
   "outputs": [
    {
     "name": "stdout",
     "output_type": "stream",
     "text": [
      "MRCVGVGNRDFVEGLSGATWVDVVLEHGGCVTTMAKNKPTLDIELQKTEATQLATLRKLCIEGKITNITTDSRCPTQGEAILPEEQDQNYVCKHTYVDRGWGNGCGLFGKGSLVTCAKFQCLESIEGKIVQHENLKYTVIITVHTGDQHQVGNETQGVTAEITSQASTAEAILPEYGTLGLECSPRTGLDFNEMILLTMKDKAWMVHRQWFFDLPLPWTSGATTKTPTWNRKELLVTFKNAHAKKQEVVVLGSQEGAMHTALTGATEIQTSGGTSIFAGHLKCRLKMDKLKLKGMSYAMCLNTFVLKKEVSETQHGTILIKVEYKGEDAPCKIPFSTEDGQGKAHNGRLITANPVVTKKEEPVNIEAEPPFGESNIVIGIGDKALKINWYRK\n",
      "392\n"
     ]
    }
   ],
   "source": [
    "records2=list(SeqIO.parse(\"D:/Research/Git hub/Main/Fasta/rcsb_pdb_1UZG.fasta\",\"fasta\"))\n",
    "seq2=records2[0].seq\n",
    "print(seq2)\n",
    "print(len(seq2))"
   ]
  },
  {
   "cell_type": "markdown",
   "id": "576d755d",
   "metadata": {},
   "source": [
    "##### Pairwise Sequence Alignment¶"
   ]
  },
  {
   "cell_type": "code",
   "execution_count": 4,
   "id": "aaab6ff7",
   "metadata": {},
   "outputs": [],
   "source": [
    "alignments = pairwise2.align.localds(seq1,seq2,blosum62,-10,-0.5)"
   ]
  },
  {
   "cell_type": "code",
   "execution_count": 5,
   "id": "068951f0",
   "metadata": {
    "scrolled": false
   },
   "outputs": [
    {
     "name": "stdout",
     "output_type": "stream",
     "text": [
      "1 MRCVGIGNRDFVEGLSGATWVDVVLEHGSCVTTMAKNKPTLDIELLKTEVTNPAVLRKLCIEAKISNTTTDSRCPTQGEATLVEEQDANFVCRRTVVDRGWGNGCGLFGKGSLLTCAKFKCVTKLEGKIVQYENLKYSVIVTVHTGDQHQVGNETTEHGTIATITPQAPTSEIQLTDYGTLTLDCSPRTGLDFNEMVLLTMKEKSWLVHKQWFLDLPLPWTSGASTSQETWNRQDLLVTFKTAHAKKQEVVVLGSQEGAMHTALTGATEIQTSGTTTIFAGHLKCRLKMDKLTLKGMSYVMCTGSFKLEKEVAETQHGTVLVQVKYEGTDAPCKIPFSTQDEKGVTQNGRLITANPIVTDKEKPVNIETEPPFGESYIIVGAGEKALKLSWFKK\n",
      "  |||||.||||||||||||||||||||||.||||||||||||||||.|||.|..|.|||||||.||.|.||||||||||||.|.||||.|.||..|.|||||||||||||||||.|||||.|....||||||.|||||.||.||||||||||||||  .|..|.||.||.|.|..|..||||.|.||||||||||||.|||||.|.|.||.|||.||||||||||.|...||||..||||||.||||||||||||||||||||||||||||||||.|.|||||||||||||||.||||||.||...|.|.|||.||||||.|..|.|.|.||||||||||.|..|...|||||||||.||.||.|||||.|||||||.|..|.|.||||..|..|\n",
      "1 MRCVGVGNRDFVEGLSGATWVDVVLEHGGCVTTMAKNKPTLDIELQKTEATQLATLRKLCIEGKITNITTDSRCPTQGEAILPEEQDQNYVCKHTYVDRGWGNGCGLFGKGSLVTCAKFQCLESIEGKIVQHENLKYTVIITVHTGDQHQVGNET--QGVTAEITSQASTAEAILPEYGTLGLECSPRTGLDFNEMILLTMKDKAWMVHRQWFFDLPLPWTSGATTKTPTWNRKELLVTFKNAHAKKQEVVVLGSQEGAMHTALTGATEIQTSGGTSIFAGHLKCRLKMDKLKLKGMSYAMCLNTFVLKKEVSETQHGTILIKVEYKGEDAPCKIPFSTEDGQGKAHNGRLITANPVVTKKEEPVNIEAEPPFGESNIVIGIGDKALKINWYRK\n",
      "  Score=1669.5\n",
      "\n",
      "0\n",
      "394\n"
     ]
    }
   ],
   "source": [
    "alignsq=format_alignment(*alignments[0])\n",
    "print(alignsq)\n",
    "print(alignments[0].start)\n",
    "print(alignments[0].end)"
   ]
  },
  {
   "cell_type": "markdown",
   "id": "6283cd8c",
   "metadata": {},
   "source": [
    "##### Take the Aligment Length"
   ]
  },
  {
   "cell_type": "code",
   "execution_count": 6,
   "id": "9f39cd0d",
   "metadata": {
    "scrolled": false
   },
   "outputs": [
    {
     "name": "stdout",
     "output_type": "stream",
     "text": [
      "MRCVGIGNRDFVEGLSGATWVDVVLEHGSCVTTMAKNKPTLDIELLKTEVTNPAVLRKLCIEAKISNTTTDSRCPTQGEATLVEEQDANFVCRRTVVDRGWGNGCGLFGKGSLLTCAKFKCVTKLEGKIVQYENLKYSVIVTVHTGDQHQVGNETTEHGTIATITPQAPTSEIQLTDYGTLTLDCSPRTGLDFNEMVLLTMKEKSWLVHKQWFLDLPLPWTSGASTSQETWNRQDLLVTFKTAHAKKQEVVVLGSQEGAMHTALTGATEIQTSGTTTIFAGHLKCRLKMDKLTLKGMSYVMCTGSFKLEKEVAETQHGTVLVQVKYEGTDAPCKIPFSTQDEKGVTQNGRLITANPIVTDKEKPVNIETEPPFGESYIIVGAGEKALKLSWFKKGGAADDDDKAGWSHPQFEKGGGSGGGSGGGSWSHPQFEK\n",
      "433\n"
     ]
    }
   ],
   "source": [
    "print(alignments[0].seqA)\n",
    "print(len(alignments[0].seqA))"
   ]
  },
  {
   "cell_type": "code",
   "execution_count": 7,
   "id": "858120ef",
   "metadata": {},
   "outputs": [
    {
     "name": "stdout",
     "output_type": "stream",
     "text": [
      "MRCVGVGNRDFVEGLSGATWVDVVLEHGGCVTTMAKNKPTLDIELQKTEATQLATLRKLCIEGKITNITTDSRCPTQGEAILPEEQDQNYVCKHTYVDRGWGNGCGLFGKGSLVTCAKFQCLESIEGKIVQHENLKYTVIITVHTGDQHQVGNET--QGVTAEITSQASTAEAILPEYGTLGLECSPRTGLDFNEMILLTMKDKAWMVHRQWFFDLPLPWTSGATTKTPTWNRKELLVTFKNAHAKKQEVVVLGSQEGAMHTALTGATEIQTSGGTSIFAGHLKCRLKMDKLKLKGMSYAMCLNTFVLKKEVSETQHGTILIKVEYKGEDAPCKIPFSTEDGQGKAHNGRLITANPVVTKKEEPVNIEAEPPFGESNIVIGIGDKALKINWYRK---------------------------------------\n",
      "433\n"
     ]
    }
   ],
   "source": [
    "print(alignments[0].seqB)\n",
    "print(len(alignments[0].seqB))"
   ]
  },
  {
   "cell_type": "markdown",
   "id": "d634d960",
   "metadata": {},
   "source": [
    "##### Calculate the Identity percentage of the two Sequences"
   ]
  },
  {
   "cell_type": "code",
   "execution_count": 8,
   "id": "45feef14",
   "metadata": {},
   "outputs": [
    {
     "name": "stdout",
     "output_type": "stream",
     "text": [
      "Number of identically aligned residues=  305\n"
     ]
    }
   ],
   "source": [
    "Matches=0\n",
    "for x,y in zip(alignments[0].seqA,alignments[0].seqB):\n",
    "    if x==y:\n",
    "        Matches+=1\n",
    "print(\"Number of identically aligned residues= \",Matches)        \n",
    "        \n",
    "    "
   ]
  },
  {
   "cell_type": "code",
   "execution_count": 9,
   "id": "630075c4",
   "metadata": {},
   "outputs": [],
   "source": [
    "percentage=(Matches/(len(alignments[0].seqB)))*100"
   ]
  },
  {
   "cell_type": "code",
   "execution_count": 10,
   "id": "e2ca577f",
   "metadata": {},
   "outputs": [
    {
     "name": "stdout",
     "output_type": "stream",
     "text": [
      "Percentage sequence identity=  70.43879907621246 %\n"
     ]
    }
   ],
   "source": [
    "print(\"Percentage sequence identity= \",percentage,\"%\")"
   ]
  },
  {
   "cell_type": "code",
   "execution_count": null,
   "id": "212f90dd",
   "metadata": {},
   "outputs": [],
   "source": []
  }
 ],
 "metadata": {
  "kernelspec": {
   "display_name": "Python 3 (ipykernel)",
   "language": "python",
   "name": "python3"
  },
  "language_info": {
   "codemirror_mode": {
    "name": "ipython",
    "version": 3
   },
   "file_extension": ".py",
   "mimetype": "text/x-python",
   "name": "python",
   "nbconvert_exporter": "python",
   "pygments_lexer": "ipython3",
   "version": "3.9.12"
  }
 },
 "nbformat": 4,
 "nbformat_minor": 5
}
